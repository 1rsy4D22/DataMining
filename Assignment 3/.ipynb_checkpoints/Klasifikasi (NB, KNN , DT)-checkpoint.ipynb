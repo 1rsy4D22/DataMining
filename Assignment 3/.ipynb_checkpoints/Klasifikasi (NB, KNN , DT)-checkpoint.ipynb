{
 "cells": [
  {
   "cell_type": "code",
   "execution_count": 67,
   "id": "3187df32-6ec7-4cc8-85c5-b146b824556c",
   "metadata": {},
   "outputs": [],
   "source": [
    "import numpy as np\n",
    "import pandas as pd\n",
    "from sklearn.model_selection import train_test_split\n",
    "from sklearn.preprocessing import StandardScaler\n",
    "from sklearn.naive_bayes import GaussianNB\n",
    "from sklearn.neighbors import KNeighborsClassifier\n",
    "from sklearn.tree import DecisionTreeClassifier\n",
    "from sklearn.metrics import confusion_matrix, accuracy_score, classification_report\n",
    "import seaborn as sns\n",
    "import matplotlib.pyplot as plt"
   ]
  },
  {
   "cell_type": "code",
   "execution_count": 68,
   "id": "f9ed7b61-c448-4251-97c5-4fa14e634cb0",
   "metadata": {},
   "outputs": [],
   "source": [
    "dataset = pd.read_csv('datasets-jadi.csv')"
   ]
  },
  {
   "cell_type": "code",
   "execution_count": 69,
   "id": "f77fbbe7-feaa-4ef6-a895-a8e62b306928",
   "metadata": {},
   "outputs": [
    {
     "data": {
      "text/html": [
       "<div>\n",
       "<style scoped>\n",
       "    .dataframe tbody tr th:only-of-type {\n",
       "        vertical-align: middle;\n",
       "    }\n",
       "\n",
       "    .dataframe tbody tr th {\n",
       "        vertical-align: top;\n",
       "    }\n",
       "\n",
       "    .dataframe thead th {\n",
       "        text-align: right;\n",
       "    }\n",
       "</style>\n",
       "<table border=\"1\" class=\"dataframe\">\n",
       "  <thead>\n",
       "    <tr style=\"text-align: right;\">\n",
       "      <th></th>\n",
       "      <th>NO</th>\n",
       "      <th>NAMA</th>\n",
       "      <th>USIA</th>\n",
       "      <th>PARITAS</th>\n",
       "      <th>JARAK KELAHIRAN</th>\n",
       "      <th>PE/Non PE</th>\n",
       "      <th>RIW HIPERTENSI_Tidak</th>\n",
       "      <th>RIW HIPERTENSI_Ya</th>\n",
       "      <th>RIW PE_Ada</th>\n",
       "      <th>RIW PE_Tidak</th>\n",
       "      <th>OBESITAS_Tidak</th>\n",
       "      <th>OBESITAS_Ya</th>\n",
       "      <th>RIW DM_Tidak</th>\n",
       "      <th>RIW DM_Ya</th>\n",
       "      <th>RIW HIPERTENSI/PE DALAM KELUARGA_Ada</th>\n",
       "      <th>RIW HIPERTENSI/PE DALAM KELUARGA_Tidak</th>\n",
       "      <th>SOSEK RENDAH_&lt;UMR</th>\n",
       "      <th>SOSEK RENDAH_&gt;UMR</th>\n",
       "    </tr>\n",
       "  </thead>\n",
       "  <tbody>\n",
       "    <tr>\n",
       "      <th>0</th>\n",
       "      <td>1</td>\n",
       "      <td>NAMA 1</td>\n",
       "      <td>23.0</td>\n",
       "      <td>3</td>\n",
       "      <td>0</td>\n",
       "      <td>0</td>\n",
       "      <td>1.0</td>\n",
       "      <td>0.0</td>\n",
       "      <td>0.0</td>\n",
       "      <td>1.0</td>\n",
       "      <td>1.0</td>\n",
       "      <td>0.0</td>\n",
       "      <td>0.0</td>\n",
       "      <td>1.0</td>\n",
       "      <td>0.0</td>\n",
       "      <td>1.0</td>\n",
       "      <td>0.0</td>\n",
       "      <td>1.0</td>\n",
       "    </tr>\n",
       "    <tr>\n",
       "      <th>1</th>\n",
       "      <td>2</td>\n",
       "      <td>NAMA 2</td>\n",
       "      <td>29.0</td>\n",
       "      <td>2</td>\n",
       "      <td>0</td>\n",
       "      <td>1</td>\n",
       "      <td>1.0</td>\n",
       "      <td>0.0</td>\n",
       "      <td>1.0</td>\n",
       "      <td>0.0</td>\n",
       "      <td>1.0</td>\n",
       "      <td>0.0</td>\n",
       "      <td>1.0</td>\n",
       "      <td>0.0</td>\n",
       "      <td>1.0</td>\n",
       "      <td>0.0</td>\n",
       "      <td>0.0</td>\n",
       "      <td>1.0</td>\n",
       "    </tr>\n",
       "    <tr>\n",
       "      <th>2</th>\n",
       "      <td>3</td>\n",
       "      <td>NAMA 3</td>\n",
       "      <td>20.0</td>\n",
       "      <td>1</td>\n",
       "      <td>2</td>\n",
       "      <td>0</td>\n",
       "      <td>1.0</td>\n",
       "      <td>0.0</td>\n",
       "      <td>0.0</td>\n",
       "      <td>1.0</td>\n",
       "      <td>1.0</td>\n",
       "      <td>0.0</td>\n",
       "      <td>1.0</td>\n",
       "      <td>0.0</td>\n",
       "      <td>0.0</td>\n",
       "      <td>1.0</td>\n",
       "      <td>0.0</td>\n",
       "      <td>1.0</td>\n",
       "    </tr>\n",
       "    <tr>\n",
       "      <th>3</th>\n",
       "      <td>4</td>\n",
       "      <td>NAMA 4</td>\n",
       "      <td>18.0</td>\n",
       "      <td>1</td>\n",
       "      <td>2</td>\n",
       "      <td>0</td>\n",
       "      <td>1.0</td>\n",
       "      <td>0.0</td>\n",
       "      <td>0.0</td>\n",
       "      <td>1.0</td>\n",
       "      <td>1.0</td>\n",
       "      <td>0.0</td>\n",
       "      <td>1.0</td>\n",
       "      <td>0.0</td>\n",
       "      <td>0.0</td>\n",
       "      <td>1.0</td>\n",
       "      <td>0.0</td>\n",
       "      <td>1.0</td>\n",
       "    </tr>\n",
       "    <tr>\n",
       "      <th>4</th>\n",
       "      <td>5</td>\n",
       "      <td>NAMA 5</td>\n",
       "      <td>34.0</td>\n",
       "      <td>3</td>\n",
       "      <td>1</td>\n",
       "      <td>0</td>\n",
       "      <td>1.0</td>\n",
       "      <td>0.0</td>\n",
       "      <td>0.0</td>\n",
       "      <td>1.0</td>\n",
       "      <td>1.0</td>\n",
       "      <td>0.0</td>\n",
       "      <td>1.0</td>\n",
       "      <td>0.0</td>\n",
       "      <td>0.0</td>\n",
       "      <td>1.0</td>\n",
       "      <td>0.0</td>\n",
       "      <td>1.0</td>\n",
       "    </tr>\n",
       "  </tbody>\n",
       "</table>\n",
       "</div>"
      ],
      "text/plain": [
       "   NO    NAMA  USIA  PARITAS  JARAK KELAHIRAN  PE/Non PE  \\\n",
       "0   1  NAMA 1  23.0        3                0          0   \n",
       "1   2  NAMA 2  29.0        2                0          1   \n",
       "2   3  NAMA 3  20.0        1                2          0   \n",
       "3   4  NAMA 4  18.0        1                2          0   \n",
       "4   5  NAMA 5  34.0        3                1          0   \n",
       "\n",
       "   RIW HIPERTENSI_Tidak  RIW HIPERTENSI_Ya  RIW PE_Ada  RIW PE_Tidak  \\\n",
       "0                   1.0                0.0         0.0           1.0   \n",
       "1                   1.0                0.0         1.0           0.0   \n",
       "2                   1.0                0.0         0.0           1.0   \n",
       "3                   1.0                0.0         0.0           1.0   \n",
       "4                   1.0                0.0         0.0           1.0   \n",
       "\n",
       "   OBESITAS_Tidak  OBESITAS_Ya  RIW DM_Tidak  RIW DM_Ya  \\\n",
       "0             1.0          0.0           0.0        1.0   \n",
       "1             1.0          0.0           1.0        0.0   \n",
       "2             1.0          0.0           1.0        0.0   \n",
       "3             1.0          0.0           1.0        0.0   \n",
       "4             1.0          0.0           1.0        0.0   \n",
       "\n",
       "   RIW HIPERTENSI/PE DALAM KELUARGA_Ada  \\\n",
       "0                                   0.0   \n",
       "1                                   1.0   \n",
       "2                                   0.0   \n",
       "3                                   0.0   \n",
       "4                                   0.0   \n",
       "\n",
       "   RIW HIPERTENSI/PE DALAM KELUARGA_Tidak  SOSEK RENDAH_<UMR  \\\n",
       "0                                     1.0                0.0   \n",
       "1                                     0.0                0.0   \n",
       "2                                     1.0                0.0   \n",
       "3                                     1.0                0.0   \n",
       "4                                     1.0                0.0   \n",
       "\n",
       "   SOSEK RENDAH_>UMR  \n",
       "0                1.0  \n",
       "1                1.0  \n",
       "2                1.0  \n",
       "3                1.0  \n",
       "4                1.0  "
      ]
     },
     "execution_count": 69,
     "metadata": {},
     "output_type": "execute_result"
    }
   ],
   "source": [
    "dataset.head()"
   ]
  },
  {
   "cell_type": "code",
   "execution_count": 70,
   "id": "35391029-f8f3-4bff-bd60-eb444e876e19",
   "metadata": {},
   "outputs": [
    {
     "name": "stdout",
     "output_type": "stream",
     "text": [
      "<class 'pandas.core.frame.DataFrame'>\n",
      "RangeIndex: 561 entries, 0 to 560\n",
      "Data columns (total 18 columns):\n",
      " #   Column                                  Non-Null Count  Dtype  \n",
      "---  ------                                  --------------  -----  \n",
      " 0   NO                                      561 non-null    int64  \n",
      " 1   NAMA                                    561 non-null    object \n",
      " 2   USIA                                    561 non-null    float64\n",
      " 3   PARITAS                                 561 non-null    int64  \n",
      " 4   JARAK KELAHIRAN                         561 non-null    int64  \n",
      " 5   PE/Non PE                               561 non-null    int64  \n",
      " 6   RIW HIPERTENSI_Tidak                    561 non-null    float64\n",
      " 7   RIW HIPERTENSI_Ya                       561 non-null    float64\n",
      " 8   RIW PE_Ada                              561 non-null    float64\n",
      " 9   RIW PE_Tidak                            561 non-null    float64\n",
      " 10  OBESITAS_Tidak                          561 non-null    float64\n",
      " 11  OBESITAS_Ya                             561 non-null    float64\n",
      " 12  RIW DM_Tidak                            561 non-null    float64\n",
      " 13  RIW DM_Ya                               561 non-null    float64\n",
      " 14  RIW HIPERTENSI/PE DALAM KELUARGA_Ada    561 non-null    float64\n",
      " 15  RIW HIPERTENSI/PE DALAM KELUARGA_Tidak  561 non-null    float64\n",
      " 16  SOSEK RENDAH_<UMR                       561 non-null    float64\n",
      " 17  SOSEK RENDAH_>UMR                       561 non-null    float64\n",
      "dtypes: float64(13), int64(4), object(1)\n",
      "memory usage: 79.0+ KB\n"
     ]
    }
   ],
   "source": [
    "dataset.info()"
   ]
  },
  {
   "cell_type": "code",
   "execution_count": 71,
   "id": "59401864-2f13-4b4d-89a3-e4ae1fe4dc29",
   "metadata": {},
   "outputs": [
    {
     "data": {
      "text/plain": [
       "NO                                        0\n",
       "NAMA                                      0\n",
       "USIA                                      0\n",
       "PARITAS                                   0\n",
       "JARAK KELAHIRAN                           0\n",
       "PE/Non PE                                 0\n",
       "RIW HIPERTENSI_Tidak                      0\n",
       "RIW HIPERTENSI_Ya                         0\n",
       "RIW PE_Ada                                0\n",
       "RIW PE_Tidak                              0\n",
       "OBESITAS_Tidak                            0\n",
       "OBESITAS_Ya                               0\n",
       "RIW DM_Tidak                              0\n",
       "RIW DM_Ya                                 0\n",
       "RIW HIPERTENSI/PE DALAM KELUARGA_Ada      0\n",
       "RIW HIPERTENSI/PE DALAM KELUARGA_Tidak    0\n",
       "SOSEK RENDAH_<UMR                         0\n",
       "SOSEK RENDAH_>UMR                         0\n",
       "dtype: int64"
      ]
     },
     "execution_count": 71,
     "metadata": {},
     "output_type": "execute_result"
    }
   ],
   "source": [
    "dataset.isnull().any()\n",
    "dataset.isnull().sum()"
   ]
  },
  {
   "cell_type": "code",
   "execution_count": 72,
   "id": "588068fa-830f-499a-9391-ba3b3cc2bef9",
   "metadata": {},
   "outputs": [],
   "source": [
    "X = dataset.drop(columns=['PE/Non PE', 'NO', 'NAMA'])  # Menghapus kolom yang tidak diperlukan\n",
    "y = dataset['PE/Non PE']  # Kolom target"
   ]
  },
  {
   "cell_type": "code",
   "execution_count": 73,
   "id": "fee1de01-d9ad-4852-99d1-03766455a851",
   "metadata": {},
   "outputs": [],
   "source": [
    "X_train, X_test, y_train, y_test = train_test_split(X, y, test_size=0.3, random_state=42)"
   ]
  },
  {
   "cell_type": "code",
   "execution_count": 74,
   "id": "3b5c62ba-12fa-4e3f-91ce-22a1256dfd13",
   "metadata": {},
   "outputs": [],
   "source": [
    "# # Apply Standard Scaling\n",
    "scaler = StandardScaler()\n",
    "X_train = scaler.fit_transform(X_train)\n",
    "X_test = scaler.transform(X_test)"
   ]
  },
  {
   "cell_type": "code",
   "execution_count": 75,
   "id": "ee12a53c-e1be-44dc-8331-abb9b5bba94a",
   "metadata": {},
   "outputs": [
    {
     "data": {
      "text/plain": [
       "array([[ 0.45876085,  2.32886265, -0.44296451, ...,  0.14433757,\n",
       "        -0.08781846,  0.08781846],\n",
       "       [-1.27902292, -0.74147645,  0.94617218, ...,  0.14433757,\n",
       "        -0.08781846,  0.08781846],\n",
       "       [-0.93146617,  0.28196992, -1.8321012 , ...,  0.14433757,\n",
       "        -0.08781846,  0.08781846],\n",
       "       ...,\n",
       "       [-0.58390941, -0.74147645,  0.94617218, ...,  0.14433757,\n",
       "        -0.08781846,  0.08781846],\n",
       "       [-0.06257428, -0.74147645,  0.94617218, ...,  0.14433757,\n",
       "        -0.08781846,  0.08781846],\n",
       "       [ 1.67520948,  2.32886265, -0.44296451, ...,  0.14433757,\n",
       "        -0.08781846,  0.08781846]])"
      ]
     },
     "execution_count": 75,
     "metadata": {},
     "output_type": "execute_result"
    }
   ],
   "source": [
    "X_train"
   ]
  },
  {
   "cell_type": "code",
   "execution_count": 76,
   "id": "a0eda622-176f-49e7-93c6-993a1817b88b",
   "metadata": {},
   "outputs": [
    {
     "data": {
      "text/plain": [
       "array([[-0.58390941, -1.76492282,  0.94617218, ...,  0.14433757,\n",
       "        -0.08781846,  0.08781846],\n",
       "       [ 1.50143111,  0.28196992, -0.44296451, ...,  0.14433757,\n",
       "        -0.08781846,  0.08781846],\n",
       "       [-1.97413643, -0.74147645,  0.94617218, ...,  0.14433757,\n",
       "        -0.08781846,  0.08781846],\n",
       "       ...,\n",
       "       [-0.93146617,  0.28196992, -1.8321012 , ...,  0.14433757,\n",
       "        -0.08781846,  0.08781846],\n",
       "       [-1.27902292, -0.74147645,  0.94617218, ...,  0.14433757,\n",
       "        -0.08781846,  0.08781846],\n",
       "       [-0.06257428,  0.28196992, -0.44296451, ...,  0.14433757,\n",
       "        -0.08781846,  0.08781846]])"
      ]
     },
     "execution_count": 76,
     "metadata": {},
     "output_type": "execute_result"
    }
   ],
   "source": [
    "X_test"
   ]
  },
  {
   "cell_type": "code",
   "execution_count": 77,
   "id": "4cb8c4ff-e621-4903-ae3f-cdd254e6db60",
   "metadata": {},
   "outputs": [],
   "source": [
    "# Naive Bayes\n",
    "nb_model = GaussianNB()\n",
    "nb_model.fit(X_train, y_train)\n",
    "y_pred_nb = nb_model.predict(X_test)\n",
    "cm_nb = confusion_matrix(y_test, y_pred_nb)"
   ]
  },
  {
   "cell_type": "code",
   "execution_count": 78,
   "id": "e0f8ea5e-989b-40fe-81e6-d3df1b41241f",
   "metadata": {},
   "outputs": [
    {
     "name": "stdout",
     "output_type": "stream",
     "text": [
      "[[  1 152]\n",
      " [  3  13]]\n"
     ]
    }
   ],
   "source": [
    "print(cm_nb)"
   ]
  },
  {
   "cell_type": "code",
   "execution_count": 79,
   "id": "887d272d-08f4-47d4-8de5-f53432fa6bf2",
   "metadata": {},
   "outputs": [],
   "source": [
    "# K-Nearest Neighbors\n",
    "knn_model = KNeighborsClassifier(n_neighbors=5)\n",
    "knn_model.fit(X_train, y_train)\n",
    "y_pred_knn = knn_model.predict(X_test)\n",
    "cm_knn = confusion_matrix(y_test, y_pred_knn)"
   ]
  },
  {
   "cell_type": "code",
   "execution_count": 80,
   "id": "016a0761-a387-4ae1-98ed-d6573c0fd902",
   "metadata": {},
   "outputs": [
    {
     "name": "stdout",
     "output_type": "stream",
     "text": [
      "[[150   3]\n",
      " [  8   8]]\n"
     ]
    }
   ],
   "source": [
    "print(cm_knn)"
   ]
  },
  {
   "cell_type": "code",
   "execution_count": 81,
   "id": "0c50837f-c819-496f-a6c0-02ad5b8c0b88",
   "metadata": {},
   "outputs": [],
   "source": [
    "# Decision Tree\n",
    "dt_model = DecisionTreeClassifier(random_state=42)\n",
    "dt_model.fit(X_train, y_train)\n",
    "y_pred_dt = dt_model.predict(X_test)\n",
    "cm_dt = confusion_matrix(y_test, y_pred_dt)"
   ]
  },
  {
   "cell_type": "code",
   "execution_count": 82,
   "id": "7802e1cb-851e-4322-bc1c-ac3b139fcdf8",
   "metadata": {},
   "outputs": [
    {
     "name": "stdout",
     "output_type": "stream",
     "text": [
      "[[149   4]\n",
      " [  8   8]]\n"
     ]
    }
   ],
   "source": [
    "print(cm_dt)"
   ]
  },
  {
   "cell_type": "code",
   "execution_count": 83,
   "id": "e9e027a1-f6ba-4d22-a014-eb6cc6cd64f4",
   "metadata": {},
   "outputs": [
    {
     "data": {
      "image/png": "[encoded data removed]",
      "text/plain": [
       "<Figure size 1500x500 with 6 Axes>"
      ]
     },
     "metadata": {},
     "output_type": "display_data"
    }
   ],
   "source": [
    "# Plot confusion matrices\n",
    "fig, axes = plt.subplots(1, 3, figsize=(15, 5))\n",
    "sns.heatmap(cm_nb, annot=True, fmt='d', cmap='Blues', ax=axes[0])\n",
    "axes[0].set_title(\"Naive Bayes Confusion Matrix\")\n",
    "axes[0].set_xlabel(\"Predicted\")\n",
    "axes[0].set_ylabel(\"Actual\")\n",
    "\n",
    "sns.heatmap(cm_knn, annot=True, fmt='d', cmap='Blues', ax=axes[1])\n",
    "axes[1].set_title(\"KNN Confusion Matrix\")\n",
    "axes[1].set_xlabel(\"Predicted\")\n",
    "axes[1].set_ylabel(\"Actual\")\n",
    "\n",
    "sns.heatmap(cm_dt, annot=True, fmt='d', cmap='Blues', ax=axes[2])\n",
    "axes[2].set_title(\"Decision Tree Confusion Matrix\")\n",
    "axes[2].set_xlabel(\"Predicted\")\n",
    "axes[2].set_ylabel(\"Actual\")\n",
    "\n",
    "plt.tight_layout()\n",
    "plt.show()"
   ]
  },
  {
   "cell_type": "code",
   "execution_count": 84,
   "id": "db3a76b7-3832-41fe-8bf6-eefb48de8d18",
   "metadata": {},
   "outputs": [
    {
     "name": "stdout",
     "output_type": "stream",
     "text": [
      "\n",
      "Naive Bayes Classification Report:\n",
      "               precision    recall  f1-score   support\n",
      "\n",
      "           0       0.25      0.01      0.01       153\n",
      "           1       0.08      0.81      0.14        16\n",
      "\n",
      "    accuracy                           0.08       169\n",
      "   macro avg       0.16      0.41      0.08       169\n",
      "weighted avg       0.23      0.08      0.03       169\n",
      "\n",
      "\n",
      "KNN Classification Report:\n",
      "               precision    recall  f1-score   support\n",
      "\n",
      "           0       0.95      0.98      0.96       153\n",
      "           1       0.73      0.50      0.59        16\n",
      "\n",
      "    accuracy                           0.93       169\n",
      "   macro avg       0.84      0.74      0.78       169\n",
      "weighted avg       0.93      0.93      0.93       169\n",
      "\n",
      "\n",
      "Decision Tree Classification Report:\n",
      "               precision    recall  f1-score   support\n",
      "\n",
      "           0       0.95      0.97      0.96       153\n",
      "           1       0.67      0.50      0.57        16\n",
      "\n",
      "    accuracy                           0.93       169\n",
      "   macro avg       0.81      0.74      0.77       169\n",
      "weighted avg       0.92      0.93      0.92       169\n",
      "\n"
     ]
    }
   ],
   "source": [
    "print(\"\\nNaive Bayes Classification Report:\\n\", classification_report(y_test, y_pred_nb))\n",
    "print(\"\\nKNN Classification Report:\\n\", classification_report(y_test, y_pred_knn))\n",
    "print(\"\\nDecision Tree Classification Report:\\n\", classification_report(y_test, y_pred_dt))"
   ]
  },
  {
   "cell_type": "code",
   "execution_count": 85,
   "id": "0ee46e23-6b79-447f-81f1-c9f6fbb2332b",
   "metadata": {},
   "outputs": [
    {
     "name": "stdout",
     "output_type": "stream",
     "text": [
      "Naive Bayes Accuracy: 8 %\n",
      "KNN Accuracy: 93 %\n",
      "Decision Tree Accuracy: 93 %\n"
     ]
    }
   ],
   "source": [
    "# Accuracy and classification report\n",
    "print(\"Naive Bayes Accuracy:\", round(accuracy_score(y_test, y_pred_nb) * 100), \"%\")\n",
    "print(\"KNN Accuracy:\", round(accuracy_score(y_test, y_pred_knn) * 100), \"%\")\n",
    "print(\"Decision Tree Accuracy:\", round(accuracy_score(y_test, y_pred_dt) * 100), \"%\")"
   ]
  },
  {
   "cell_type": "code",
   "execution_count": null,
   "id": "0328bfa0-d808-48ed-909b-63f5ff495d11",
   "metadata": {},
   "outputs": [],
   "source": []
  }
 ],
 "metadata": {
  "kernelspec": {
   "display_name": "Python 3 (ipykernel)",
   "language": "python",
   "name": "python3"
  },
  "language_info": {
   "codemirror_mode": {
    "name": "ipython",
    "version": 3
   },
   "file_extension": ".py",
   "mimetype": "text/x-python",
   "name": "python",
   "nbconvert_exporter": "python",
   "pygments_lexer": "ipython3",
   "version": "3.12.6"
  }
 },
 "nbformat": 4,
 "nbformat_minor": 5
}
